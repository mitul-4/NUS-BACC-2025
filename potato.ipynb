{
 "cells": [
  {
   "cell_type": "code",
   "execution_count": null,
   "metadata": {},
   "outputs": [],
   "source": [
    "import pandas as pd\n",
    "from random import randrange\n",
    "\n",
    "datasheet = pd.read_csv(\"data.csv\")\n",
    "h_1_data = datasheet.iloc[:, 0]\n",
    "i_2_data = datasheet.iloc[:, 1]\n",
    "j_3_data = datasheet.iloc[:, 2]"
   ]
  },
  {
   "cell_type": "markdown",
   "metadata": {},
   "source": [
    "# h1"
   ]
  },
  {
   "cell_type": "code",
   "execution_count": 65,
   "metadata": {},
   "outputs": [],
   "source": [
    "h1_5000_simulations = []\n",
    "for i in range(5000):\n",
    "    list_h_1 = []\n",
    "    for i in range(12000):\n",
    "        x = randrange(0, 999)\n",
    "        list_h_1.append(h_1_data[x])\n",
    "    y = sum(list_h_1) / (7 * 24 * 60 * 0.85)\n",
    "    h1_5000_simulations.append(y)"
   ]
  },
  {
   "cell_type": "code",
   "execution_count": 85,
   "metadata": {},
   "outputs": [
    {
     "name": "stdout",
     "output_type": "stream",
     "text": [
      "After conducting 5000 simulations to find the required tool count in workstation H for node 1, \n",
      "the simulated mean value of these values obtained from all 5000 simulations is 2.9870378079530373.\n"
     ]
    }
   ],
   "source": [
    "print(f\"After conducting 5000 simulations to find the required tool count in workstation H for node 1, \\nthe simulated mean value of these values obtained from all 5000 simulations is {(sum(h1_5000_simulations)) / 5000}.\")"
   ]
  },
  {
   "cell_type": "code",
   "execution_count": 84,
   "metadata": {},
   "outputs": [
    {
     "name": "stdout",
     "output_type": "stream",
     "text": [
      "Failure occurs when simulated required tool count exceeds the actual tool count. \n",
      "For workstation H, this occurs when tool count > 3, which happens 96 times out of 5000 times.\n",
      "Probability of failure is thus approximately 1.92%\n"
     ]
    }
   ],
   "source": [
    "print(f\"Failure occurs when simulated required tool count exceeds the actual tool count. \\nFor workstation H, this occurs when tool count > 3, which happens {sum(i > 3 for i in h1_5000_simulations)} times out of 5000 times.\\nProbability of failure is thus approximately 1.92%\")"
   ]
  },
  {
   "cell_type": "markdown",
   "metadata": {},
   "source": [
    "# i2"
   ]
  },
  {
   "cell_type": "code",
   "execution_count": 75,
   "metadata": {},
   "outputs": [],
   "source": [
    "i2_5000_simulations = []\n",
    "for i in range(5000):\n",
    "    list_i_2 = []\n",
    "    for i in range(5000):\n",
    "        x = randrange(0, 999)\n",
    "        list_i_2.append(i_2_data[x])\n",
    "    y = sum(list_i_2) / (7 * 24 * 60 * 0.75)\n",
    "    i2_5000_simulations.append(y)\n"
   ]
  },
  {
   "cell_type": "code",
   "execution_count": 86,
   "metadata": {},
   "outputs": [
    {
     "name": "stdout",
     "output_type": "stream",
     "text": [
      "After conducting 5000 simulations to find the required tool count in workstation I for node 2, \n",
      "the mean value of the values obtained from all 5000 simulations is 3.9603472579701897.\n"
     ]
    }
   ],
   "source": [
    "\n",
    "print(f\"After conducting 5000 simulations to find the required tool count in workstation I for node 2, \\nthe mean value of the values obtained from all 5000 simulations is {(sum(i2_5000_simulations)) / 5000}.\")"
   ]
  },
  {
   "cell_type": "code",
   "execution_count": 78,
   "metadata": {},
   "outputs": [
    {
     "name": "stdout",
     "output_type": "stream",
     "text": [
      "Failure occurs when simulated required tool count exceeds the actual tool count. \n",
      "For workstation I, this occurs when tool count > 4, which happens 501 times out of 5000 times.\n",
      "Probability of failure is thus approximately 10.02%\n"
     ]
    }
   ],
   "source": [
    "print(f\"Failure occurs when simulated required tool count exceeds the actual tool count. \\nFor workstation I, this occurs when tool count > 4, which happens {sum(i > 4 for i in i2_5000_simulations)} times out of 5000 times.\\nProbability of failure is thus approximately 10.02%\")"
   ]
  },
  {
   "cell_type": "markdown",
   "metadata": {},
   "source": [
    "# j3"
   ]
  },
  {
   "cell_type": "code",
   "execution_count": 79,
   "metadata": {},
   "outputs": [],
   "source": [
    "j3_5000_simulations = []\n",
    "for i in range(5000):\n",
    "    list_j_3 = []\n",
    "    for i in range(1000):\n",
    "        x = randrange(0, 999)\n",
    "        list_j_3.append(j_3_data[x])\n",
    "    y = sum(list_j_3) / (7 * 24 * 60 * 0.6)\n",
    "    j3_5000_simulations.append(y)"
   ]
  },
  {
   "cell_type": "code",
   "execution_count": 87,
   "metadata": {},
   "outputs": [
    {
     "name": "stdout",
     "output_type": "stream",
     "text": [
      "After conducting 5000 simulations to required tool count in workstation J for node 3, \n",
      "the mean value of the values obtained from all 5000 simulations is 0.5000963462375843.\n"
     ]
    }
   ],
   "source": [
    "\n",
    "print(f\"After conducting 5000 simulations to required tool count in workstation J for node 3, \\nthe mean value of the values obtained from all 5000 simulations is {(sum(j3_5000_simulations)) / 5000}.\")"
   ]
  },
  {
   "cell_type": "code",
   "execution_count": 88,
   "metadata": {},
   "outputs": [
    {
     "name": "stdout",
     "output_type": "stream",
     "text": [
      "Failure occurs when simulated required tool count exceeds the actual tool count. \n",
      "For workstation J, this occurs when tool count > 1, which happens 0 times out of 5000 times.\n",
      "Probability of failure is thus approximately 0%\n"
     ]
    }
   ],
   "source": [
    "print(f\"Failure occurs when simulated required tool count exceeds the actual tool count. \\nFor workstation J, this occurs when tool count > 1, which happens {sum(i > 1 for i in j3_5000_simulations)} times out of 5000 times.\\nProbability of failure is thus approximately 0%\")"
   ]
  }
 ],
 "metadata": {
  "kernelspec": {
   "display_name": "Python 3",
   "language": "python",
   "name": "python3"
  },
  "language_info": {
   "codemirror_mode": {
    "name": "ipython",
    "version": 3
   },
   "file_extension": ".py",
   "mimetype": "text/x-python",
   "name": "python",
   "nbconvert_exporter": "python",
   "pygments_lexer": "ipython3",
   "version": "3.12.9"
  }
 },
 "nbformat": 4,
 "nbformat_minor": 2
}
